{
 "cells": [
  {
   "cell_type": "markdown",
   "id": "79929523",
   "metadata": {},
   "source": [
    "#### Add a new column “Decade” by calculating. For example 1969 will be 1960, 1988 will 1980 etc."
   ]
  },
  {
   "cell_type": "code",
   "execution_count": 1,
   "id": "0c9dcf13",
   "metadata": {},
   "outputs": [
    {
     "name": "stdout",
     "output_type": "stream",
     "text": [
      "       year  month  day gender  births  Decade\n",
      "0      1969      1  1.0      F    4046    1960\n",
      "1      1969      1  1.0      M    4440    1960\n",
      "2      1969      1  2.0      F    4454    1960\n",
      "3      1969      1  2.0      M    4548    1960\n",
      "4      1969      1  3.0      F    4548    1960\n",
      "...     ...    ...  ...    ...     ...     ...\n",
      "15542  2008     10  NaN      M  183219    2000\n",
      "15543  2008     11  NaN      F  158939    2000\n",
      "15544  2008     11  NaN      M  165468    2000\n",
      "15545  2008     12  NaN      F  173215    2000\n",
      "15546  2008     12  NaN      M  181235    2000\n",
      "\n",
      "[15547 rows x 6 columns]\n"
     ]
    }
   ],
   "source": [
    "import pandas as pd\n",
    "import matplotlib.pyplot as plt\n",
    "\n",
    "df = pd.read_csv(\"C:\\\\Users\\\\Subhaan khokhar\\\\Downloads\\\\EDA Internship Week 6\\\\births.csv\")\n",
    "\n",
    "def calculate_decade(year):\n",
    "    return (year // 10) * 10 \n",
    "\n",
    "df['Decade'] = calculate_decade(df['year'])\n",
    "\n",
    "print(df)\n"
   ]
  },
  {
   "cell_type": "markdown",
   "id": "fbb543b5",
   "metadata": {},
   "source": [
    "#### Show the descriptive statistics of the data."
   ]
  },
  {
   "cell_type": "code",
   "execution_count": 2,
   "id": "b3658e78",
   "metadata": {},
   "outputs": [
    {
     "data": {
      "text/html": [
       "<div>\n",
       "<style scoped>\n",
       "    .dataframe tbody tr th:only-of-type {\n",
       "        vertical-align: middle;\n",
       "    }\n",
       "\n",
       "    .dataframe tbody tr th {\n",
       "        vertical-align: top;\n",
       "    }\n",
       "\n",
       "    .dataframe thead th {\n",
       "        text-align: right;\n",
       "    }\n",
       "</style>\n",
       "<table border=\"1\" class=\"dataframe\">\n",
       "  <thead>\n",
       "    <tr style=\"text-align: right;\">\n",
       "      <th></th>\n",
       "      <th>year</th>\n",
       "      <th>month</th>\n",
       "      <th>day</th>\n",
       "      <th>births</th>\n",
       "      <th>Decade</th>\n",
       "    </tr>\n",
       "  </thead>\n",
       "  <tbody>\n",
       "    <tr>\n",
       "      <th>count</th>\n",
       "      <td>15547.000000</td>\n",
       "      <td>15547.000000</td>\n",
       "      <td>15067.000000</td>\n",
       "      <td>15547.000000</td>\n",
       "      <td>15547.000000</td>\n",
       "    </tr>\n",
       "    <tr>\n",
       "      <th>mean</th>\n",
       "      <td>1979.037435</td>\n",
       "      <td>6.515919</td>\n",
       "      <td>17.769894</td>\n",
       "      <td>9762.293561</td>\n",
       "      <td>1974.544285</td>\n",
       "    </tr>\n",
       "    <tr>\n",
       "      <th>std</th>\n",
       "      <td>6.728340</td>\n",
       "      <td>3.449632</td>\n",
       "      <td>15.284034</td>\n",
       "      <td>28552.465810</td>\n",
       "      <td>6.789583</td>\n",
       "    </tr>\n",
       "    <tr>\n",
       "      <th>min</th>\n",
       "      <td>1969.000000</td>\n",
       "      <td>1.000000</td>\n",
       "      <td>1.000000</td>\n",
       "      <td>1.000000</td>\n",
       "      <td>1960.000000</td>\n",
       "    </tr>\n",
       "    <tr>\n",
       "      <th>25%</th>\n",
       "      <td>1974.000000</td>\n",
       "      <td>4.000000</td>\n",
       "      <td>8.000000</td>\n",
       "      <td>4358.000000</td>\n",
       "      <td>1970.000000</td>\n",
       "    </tr>\n",
       "    <tr>\n",
       "      <th>50%</th>\n",
       "      <td>1979.000000</td>\n",
       "      <td>7.000000</td>\n",
       "      <td>16.000000</td>\n",
       "      <td>4814.000000</td>\n",
       "      <td>1970.000000</td>\n",
       "    </tr>\n",
       "    <tr>\n",
       "      <th>75%</th>\n",
       "      <td>1984.000000</td>\n",
       "      <td>10.000000</td>\n",
       "      <td>24.000000</td>\n",
       "      <td>5289.500000</td>\n",
       "      <td>1980.000000</td>\n",
       "    </tr>\n",
       "    <tr>\n",
       "      <th>max</th>\n",
       "      <td>2008.000000</td>\n",
       "      <td>12.000000</td>\n",
       "      <td>99.000000</td>\n",
       "      <td>199622.000000</td>\n",
       "      <td>2000.000000</td>\n",
       "    </tr>\n",
       "  </tbody>\n",
       "</table>\n",
       "</div>"
      ],
      "text/plain": [
       "               year         month           day         births        Decade\n",
       "count  15547.000000  15547.000000  15067.000000   15547.000000  15547.000000\n",
       "mean    1979.037435      6.515919     17.769894    9762.293561   1974.544285\n",
       "std        6.728340      3.449632     15.284034   28552.465810      6.789583\n",
       "min     1969.000000      1.000000      1.000000       1.000000   1960.000000\n",
       "25%     1974.000000      4.000000      8.000000    4358.000000   1970.000000\n",
       "50%     1979.000000      7.000000     16.000000    4814.000000   1970.000000\n",
       "75%     1984.000000     10.000000     24.000000    5289.500000   1980.000000\n",
       "max     2008.000000     12.000000     99.000000  199622.000000   2000.000000"
      ]
     },
     "execution_count": 2,
     "metadata": {},
     "output_type": "execute_result"
    }
   ],
   "source": [
    "df.describe()"
   ]
  },
  {
   "cell_type": "markdown",
   "id": "0e165042",
   "metadata": {},
   "source": [
    "#### Check if your data contains any missing values."
   ]
  },
  {
   "cell_type": "code",
   "execution_count": 3,
   "id": "fdc4a686",
   "metadata": {},
   "outputs": [
    {
     "data": {
      "text/plain": [
       "year        0\n",
       "month       0\n",
       "day       480\n",
       "gender      0\n",
       "births      0\n",
       "Decade      0\n",
       "dtype: int64"
      ]
     },
     "execution_count": 3,
     "metadata": {},
     "output_type": "execute_result"
    }
   ],
   "source": [
    "df.isnull().sum()"
   ]
  },
  {
   "cell_type": "markdown",
   "id": "bc135753",
   "metadata": {},
   "source": [
    "#### What is the trend of male & female births every decade?"
   ]
  },
  {
   "cell_type": "code",
   "execution_count": 4,
   "id": "212679eb",
   "metadata": {},
   "outputs": [
    {
     "data": {
      "image/png": "[encoded data removed]",
      "text/plain": [
       "<Figure size 1000x600 with 1 Axes>"
      ]
     },
     "metadata": {},
     "output_type": "display_data"
    }
   ],
   "source": [
    "births_by_decade_gender = df.groupby(['Decade', 'gender'])['births'].sum().unstack()\n",
    "\n",
    "births_by_decade_gender.plot(kind='bar', stacked=True, figsize=(10, 6), xlabel='Decade', ylabel='Total Births',\n",
    "                             title='Trend of Male and Female Births Every Decade')\n",
    "plt.show()"
   ]
  },
  {
   "cell_type": "markdown",
   "id": "6e7c365c",
   "metadata": {},
   "source": [
    "#### To remove outliers from dataset following techinque to include only those values that fall within 5 standard deviations from the mean.This is a common statistical technique used to focus on the centralnmtendency of the data while excluding extreme values."
   ]
  },
  {
   "cell_type": "code",
   "execution_count": 5,
   "id": "c68fc8fc",
   "metadata": {},
   "outputs": [
    {
     "name": "stdout",
     "output_type": "stream",
     "text": [
      "   year  month  day gender  births  Decade\n",
      "0  1969      1  1.0      F    4046    1960\n",
      "1  1969      1  1.0      M    4440    1960\n",
      "2  1969      1  2.0      F    4454    1960\n",
      "3  1969      1  2.0      M    4548    1960\n",
      "4  1969      1  3.0      F    4548    1960\n"
     ]
    }
   ],
   "source": [
    "mean_births = df['births'].mean()\n",
    "std_births = df['births'].std()\n",
    "\n",
    "lower_limit = mean_births - 5 * std_births\n",
    "upper_limit = mean_births + 5 * std_births\n",
    "\n",
    "filtered_df = df[(df['births'] >= lower_limit) & (df['births'] <= upper_limit)]\n",
    "\n",
    "print(filtered_df.head())"
   ]
  },
  {
   "cell_type": "markdown",
   "id": "7a3ee181",
   "metadata": {},
   "source": [
    "#### Group the data by month and day separately."
   ]
  },
  {
   "cell_type": "code",
   "execution_count": 6,
   "id": "c83c08fd",
   "metadata": {},
   "outputs": [
    {
     "name": "stdout",
     "output_type": "stream",
     "text": [
      "Births by Month:\n",
      "month\n",
      "1     12364197\n",
      "2     11541178\n",
      "3     12678844\n",
      "4     12085891\n",
      "5     12624972\n",
      "6     12521070\n",
      "7     13367556\n",
      "8     13528007\n",
      "9     13252831\n",
      "10    12954950\n",
      "11    12197967\n",
      "12    12656915\n",
      "Name: births, dtype: int64\n",
      "\n",
      "Births by Day:\n",
      "day\n",
      "1.0     2286854\n",
      "2.0     2303168\n",
      "3.0     2309087\n",
      "4.0     2286588\n",
      "5.0     2296951\n",
      "6.0     2308073\n",
      "7.0     2314081\n",
      "8.0     2322376\n",
      "9.0     2315055\n",
      "10.0    2327197\n",
      "11.0    2319561\n",
      "12.0    2322956\n",
      "13.0    2290896\n",
      "14.0    2335551\n",
      "15.0    2333426\n",
      "16.0    2332456\n",
      "17.0    2335458\n",
      "18.0    2334949\n",
      "19.0    2331183\n",
      "20.0    2337631\n",
      "21.0    2329563\n",
      "22.0    2317711\n",
      "23.0    2305174\n",
      "24.0    2290500\n",
      "25.0    2283975\n",
      "26.0    2300208\n",
      "27.0    2314088\n",
      "28.0    2328630\n",
      "29.0    2189278\n",
      "30.0    2141788\n",
      "31.0    1342126\n",
      "99.0       6403\n",
      "Name: births, dtype: int64\n"
     ]
    }
   ],
   "source": [
    "\n",
    "births_by_month = df.groupby('month')['births'].sum()\n",
    "\n",
    "births_by_day = df.groupby('day')['births'].sum()\n",
    "\n",
    "print(\"Births by Month:\")\n",
    "print(births_by_month)\n",
    "\n",
    "print(\"\\nBirths by Day:\")\n",
    "print(births_by_day)"
   ]
  },
  {
   "cell_type": "markdown",
   "id": "7bfbc719",
   "metadata": {},
   "source": [
    "#### Focusing on the month and day only, you have a time series reflecting the average number of births by date of the year. From this, plot the data."
   ]
  },
  {
   "cell_type": "code",
   "execution_count": null,
   "id": "5312cbb2",
   "metadata": {},
   "outputs": [],
   "source": [
    "\n",
    "df['date'] = pd.to_datetime(df[['year', 'month', 'day']])\n",
    "\n",
    "df['day_of_year'] = df['date'].dt.dayofyear\n",
    "\n",
    "average_births_by_day_of_year = df.groupby('day_of_year')['births'].mean()\n",
    "\n",
    "plt.figure(figsize=(10, 6))\n",
    "average_births_by_day_of_year.plot(xlabel='Day of the Year', ylabel='Average Number of Births',\n",
    "                                   title='Average Births by Day of the Year', legend=False)\n",
    "\n",
    "plt.show()"
   ]
  }
 ],
 "metadata": {
  "kernelspec": {
   "display_name": "Python 3 (ipykernel)",
   "language": "python",
   "name": "python3"
  },
  "language_info": {
   "codemirror_mode": {
    "name": "ipython",
    "version": 3
   },
   "file_extension": ".py",
   "mimetype": "text/x-python",
   "name": "python",
   "nbconvert_exporter": "python",
   "pygments_lexer": "ipython3",
   "version": "3.11.5"
  }
 },
 "nbformat": 4,
 "nbformat_minor": 5
}
